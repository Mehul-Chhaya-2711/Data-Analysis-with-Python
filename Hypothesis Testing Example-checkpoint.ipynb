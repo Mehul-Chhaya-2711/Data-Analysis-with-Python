{
 "cells": [
  {
   "cell_type": "code",
   "execution_count": 1,
   "metadata": {},
   "outputs": [],
   "source": [
    "#Dataset has been obtained from Kaggle\n",
    "#Dataset is on the IMDB records for some 1000 films over a period of time\n",
    "#Question: Does the length of film affect its ratings?\n",
    "\n",
    "# Step: \n",
    "#     1. Get population mean of run time\n",
    "#     2. Hypothesis: Does films greater than/less than average runtime have difference in rating ? \n",
    "#     3. Take equal samples of both types of files (Films < avg.runtime && Films > avg.runtime)    \n",
    "\n",
    "# Why are above steps taken? Basically to get 2 event groups out of the overall one with events independent of each other"
   ]
  },
  {
   "cell_type": "code",
   "execution_count": 2,
   "metadata": {},
   "outputs": [],
   "source": [
    "#Module Imports section\n",
    "%matplotlib inline\n",
    "from pandas import Series, DataFrame\n",
    "import pandas as pd\n",
    "import numpy as np\n",
    "from numpy.random import randn\n",
    "from scipy import stats\n",
    "import random\n",
    "import statsmodels.api as sm \n",
    "import pylab as py \n",
    "import statistics\n",
    "import math\n",
    "from statsmodels.stats import weightstats as stests"
   ]
  },
  {
   "cell_type": "code",
   "execution_count": 3,
   "metadata": {},
   "outputs": [
    {
     "data": {
      "text/html": [
       "<div>\n",
       "<style scoped>\n",
       "    .dataframe tbody tr th:only-of-type {\n",
       "        vertical-align: middle;\n",
       "    }\n",
       "\n",
       "    .dataframe tbody tr th {\n",
       "        vertical-align: top;\n",
       "    }\n",
       "\n",
       "    .dataframe thead th {\n",
       "        text-align: right;\n",
       "    }\n",
       "</style>\n",
       "<table border=\"1\" class=\"dataframe\">\n",
       "  <thead>\n",
       "    <tr style=\"text-align: right;\">\n",
       "      <th></th>\n",
       "      <th>Rank</th>\n",
       "      <th>Title</th>\n",
       "      <th>Genre</th>\n",
       "      <th>Description</th>\n",
       "      <th>Director</th>\n",
       "      <th>Actors</th>\n",
       "      <th>Year</th>\n",
       "      <th>Runtime</th>\n",
       "      <th>Rating</th>\n",
       "      <th>Votes</th>\n",
       "      <th>Revenue</th>\n",
       "      <th>Metascore</th>\n",
       "    </tr>\n",
       "  </thead>\n",
       "  <tbody>\n",
       "    <tr>\n",
       "      <th>0</th>\n",
       "      <td>1</td>\n",
       "      <td>Guardians of the Galaxy</td>\n",
       "      <td>Action,Adventure,Sci-Fi</td>\n",
       "      <td>A group of intergalactic criminals are forced ...</td>\n",
       "      <td>James Gunn</td>\n",
       "      <td>Chris Pratt, Vin Diesel, Bradley Cooper, Zoe S...</td>\n",
       "      <td>2014</td>\n",
       "      <td>121.0</td>\n",
       "      <td>8.1</td>\n",
       "      <td>757074</td>\n",
       "      <td>333.13</td>\n",
       "      <td>76.0</td>\n",
       "    </tr>\n",
       "    <tr>\n",
       "      <th>1</th>\n",
       "      <td>2</td>\n",
       "      <td>Prometheus</td>\n",
       "      <td>Adventure,Mystery,Sci-Fi</td>\n",
       "      <td>Following clues to the origin of mankind, a te...</td>\n",
       "      <td>Ridley Scott</td>\n",
       "      <td>Noomi Rapace, Logan Marshall-Green, Michael Fa...</td>\n",
       "      <td>2012</td>\n",
       "      <td>124.0</td>\n",
       "      <td>7.0</td>\n",
       "      <td>485820</td>\n",
       "      <td>126.46</td>\n",
       "      <td>65.0</td>\n",
       "    </tr>\n",
       "    <tr>\n",
       "      <th>2</th>\n",
       "      <td>3</td>\n",
       "      <td>Split</td>\n",
       "      <td>Horror,Thriller</td>\n",
       "      <td>Three girls are kidnapped by a man with a diag...</td>\n",
       "      <td>M. Night Shyamalan</td>\n",
       "      <td>James McAvoy, Anya Taylor-Joy, Haley Lu Richar...</td>\n",
       "      <td>2016</td>\n",
       "      <td>117.0</td>\n",
       "      <td>7.3</td>\n",
       "      <td>157606</td>\n",
       "      <td>138.12</td>\n",
       "      <td>62.0</td>\n",
       "    </tr>\n",
       "    <tr>\n",
       "      <th>3</th>\n",
       "      <td>4</td>\n",
       "      <td>Sing</td>\n",
       "      <td>Animation,Comedy,Family</td>\n",
       "      <td>In a city of humanoid animals, a hustling thea...</td>\n",
       "      <td>Christophe Lourdelet</td>\n",
       "      <td>Matthew McConaughey,Reese Witherspoon, Seth Ma...</td>\n",
       "      <td>2016</td>\n",
       "      <td>108.0</td>\n",
       "      <td>7.2</td>\n",
       "      <td>60545</td>\n",
       "      <td>270.32</td>\n",
       "      <td>59.0</td>\n",
       "    </tr>\n",
       "    <tr>\n",
       "      <th>4</th>\n",
       "      <td>5</td>\n",
       "      <td>Suicide Squad</td>\n",
       "      <td>Action,Adventure,Fantasy</td>\n",
       "      <td>A secret government agency recruits some of th...</td>\n",
       "      <td>David Ayer</td>\n",
       "      <td>Will Smith, Jared Leto, Margot Robbie, Viola D...</td>\n",
       "      <td>2016</td>\n",
       "      <td>123.0</td>\n",
       "      <td>6.2</td>\n",
       "      <td>393727</td>\n",
       "      <td>325.02</td>\n",
       "      <td>40.0</td>\n",
       "    </tr>\n",
       "  </tbody>\n",
       "</table>\n",
       "</div>"
      ],
      "text/plain": [
       "   Rank                    Title                     Genre  \\\n",
       "0     1  Guardians of the Galaxy   Action,Adventure,Sci-Fi   \n",
       "1     2               Prometheus  Adventure,Mystery,Sci-Fi   \n",
       "2     3                    Split           Horror,Thriller   \n",
       "3     4                     Sing   Animation,Comedy,Family   \n",
       "4     5            Suicide Squad  Action,Adventure,Fantasy   \n",
       "\n",
       "                                         Description              Director  \\\n",
       "0  A group of intergalactic criminals are forced ...            James Gunn   \n",
       "1  Following clues to the origin of mankind, a te...          Ridley Scott   \n",
       "2  Three girls are kidnapped by a man with a diag...    M. Night Shyamalan   \n",
       "3  In a city of humanoid animals, a hustling thea...  Christophe Lourdelet   \n",
       "4  A secret government agency recruits some of th...            David Ayer   \n",
       "\n",
       "                                              Actors  Year  Runtime  Rating  \\\n",
       "0  Chris Pratt, Vin Diesel, Bradley Cooper, Zoe S...  2014    121.0     8.1   \n",
       "1  Noomi Rapace, Logan Marshall-Green, Michael Fa...  2012    124.0     7.0   \n",
       "2  James McAvoy, Anya Taylor-Joy, Haley Lu Richar...  2016    117.0     7.3   \n",
       "3  Matthew McConaughey,Reese Witherspoon, Seth Ma...  2016    108.0     7.2   \n",
       "4  Will Smith, Jared Leto, Margot Robbie, Viola D...  2016    123.0     6.2   \n",
       "\n",
       "    Votes  Revenue  Metascore  \n",
       "0  757074   333.13       76.0  \n",
       "1  485820   126.46       65.0  \n",
       "2  157606   138.12       62.0  \n",
       "3   60545   270.32       59.0  \n",
       "4  393727   325.02       40.0  "
      ]
     },
     "execution_count": 3,
     "metadata": {},
     "output_type": "execute_result"
    }
   ],
   "source": [
    "#File Imports section\n",
    "imdb = pd.read_csv('D:\\Study Materials\\Documents to play with in python\\IMDB\\IMDB-Movie-Data.csv',error_bad_lines=False)\n",
    "imdb = imdb.rename(columns = {'Runtime (Minutes)':'Runtime','Revenue (Millions)':'Revenue'})\n",
    "imdb['Runtime'] = imdb['Runtime'].astype(float)\n",
    "imdb['Rating'] = imdb['Rating'].astype(float)\n",
    "imdb['Revenue'] = imdb['Revenue'].astype(float)\n",
    "imdb.fillna(0)\n",
    "imdb.head(5)"
   ]
  },
  {
   "cell_type": "code",
   "execution_count": 4,
   "metadata": {},
   "outputs": [
    {
     "data": {
      "text/plain": [
       "Rank           1000\n",
       "Title           999\n",
       "Genre           207\n",
       "Description    1000\n",
       "Director        644\n",
       "Actors          996\n",
       "Year             11\n",
       "Runtime          94\n",
       "Rating           55\n",
       "Votes           997\n",
       "Revenue         814\n",
       "Metascore        84\n",
       "dtype: int64"
      ]
     },
     "execution_count": 4,
     "metadata": {},
     "output_type": "execute_result"
    }
   ],
   "source": [
    "#Getting unique counts for all columns\n",
    "imdb.nunique()"
   ]
  },
  {
   "cell_type": "code",
   "execution_count": 5,
   "metadata": {},
   "outputs": [
    {
     "data": {
      "text/plain": [
       "113.172"
      ]
     },
     "execution_count": 5,
     "metadata": {},
     "output_type": "execute_result"
    }
   ],
   "source": [
    "run_time_mean_pop = imdb['Runtime'].mean()\n",
    "run_time_mean_pop"
   ]
  },
  {
   "cell_type": "code",
   "execution_count": 6,
   "metadata": {},
   "outputs": [],
   "source": [
    "#Let us get a count of film with rating greater than population mean of runtime\n",
    "films_grt_thn_avg = DataFrame(imdb.loc[imdb['Runtime'] > run_time_mean_pop]['Title'])\n",
    "films_grt_thn_avg_cnt = films_grt_thn_avg['Title'].count()\n",
    "\n",
    "# Let us get equal number of records in films_lsr_thn_avg\n",
    "\n",
    "films_lsr_thn_avg = DataFrame((imdb.loc[imdb['Runtime'] < run_time_mean_pop]['Title']).sample(n = films_grt_thn_avg_cnt))\n",
    "\n",
    "#Let us make data frames for these names\n",
    "films_grt_thn_avg_df = imdb.loc[imdb['Title'].isin(list(films_grt_thn_avg['Title']))]\n",
    "films_lsr_thn_avg_df = imdb.loc[imdb['Title'].isin(list(films_lsr_thn_avg['Title']))]"
   ]
  },
  {
   "cell_type": "code",
   "execution_count": 7,
   "metadata": {},
   "outputs": [
    {
     "data": {
      "image/png": "[encoded data removed]",
      "text/plain": [
       "<Figure size 432x288 with 1 Axes>"
      ]
     },
     "metadata": {
      "needs_background": "light"
     },
     "output_type": "display_data"
    },
    {
     "data": {
      "image/png": "[encoded data removed]",
      "text/plain": [
       "<Figure size 432x288 with 1 Axes>"
      ]
     },
     "metadata": {
      "needs_background": "light"
     },
     "output_type": "display_data"
    }
   ],
   "source": [
    "#Now we have 2 groups: Films with runtime > 113 minutes and Films with runtime < 113 minutes\n",
    "#We will check if the 2 groups differ in their rating \n",
    "#mind well; Runtime variable was used to create 2 groups of data. It will not be used for hypothesis testing\n",
    "#Hypothesis testing will be done on 'Rating'\n",
    "\n",
    "# H0 : Ratings for films with Runtime < average and films with Runtime > average are same/unbiased.Meaning runtime does not impact rating\n",
    "# H1 : Runtime does impact rating. Their means are unequal\n",
    "\n",
    "sm.qqplot(films_lsr_thn_avg_df['Rating']) \n",
    "py.show()\n",
    "sm.qqplot(films_grt_thn_avg_df['Rating']) \n",
    "py.show()\n",
    "\n",
    "#Here we get a nearly straight line implying normal distribution. Hence 2 sample Z test can be used"
   ]
  },
  {
   "cell_type": "code",
   "execution_count": 8,
   "metadata": {},
   "outputs": [
    {
     "name": "stdout",
     "output_type": "stream",
     "text": [
      "1.134256476492493e-23\n",
      "reject null hypothesis meaning Runtime Does impact Rating\n",
      "7.063510392609697 6.4438799076212465\n"
     ]
    }
   ],
   "source": [
    "films_grt_thn_avg_df_mean = films_grt_thn_avg_df['Rating'].mean()\n",
    "films_lsr_thn_avg_df_mean = films_lsr_thn_avg_df['Rating'].mean()\n",
    "difference_of_mean = 0\n",
    "films_grt_thn_avg_df_sd = statistics.stdev(films_grt_thn_avg_df['Rating'])\n",
    "films_lsr_thn_avg_df_sd = statistics.stdev(films_lsr_thn_avg_df['Rating'])\n",
    "sample_size_for_both = films_grt_thn_avg_cnt\n",
    "\n",
    "Z_Score_numerator = ((films_grt_thn_avg_df_mean-films_lsr_thn_avg_df_mean) - difference_of_mean)\n",
    "Z_Score_dinominator = math.sqrt((films_grt_thn_avg_df_sd**2/sample_size_for_both) + (films_lsr_thn_avg_df_sd**2/sample_size_for_both))\n",
    "\n",
    "Z_Score = Z_Score_numerator/Z_Score_dinominator\n",
    "P_Values = stats.norm.sf(abs(Z_Score))*2\n",
    "\n",
    "print(P_Values)\n",
    "\n",
    "if P_Values<0.05:\n",
    "    print(\"reject null hypothesis meaning Runtime Does impact Rating\")\n",
    "    print(films_grt_thn_avg_df_mean,films_lsr_thn_avg_df_mean)\n",
    "else:\n",
    "    print(\"accept null hypothesis\")"
   ]
  },
  {
   "cell_type": "code",
   "execution_count": 9,
   "metadata": {},
   "outputs": [
    {
     "name": "stdout",
     "output_type": "stream",
     "text": [
      "1.1342564764919882e-23\n",
      "reject null hypothesis meaning Runtime Does impact Rating\n",
      "7.063510392609697 6.4438799076212465\n"
     ]
    }
   ],
   "source": [
    "# Using Python libraries for directly calculating the same\n",
    "ztest ,P_Value = stests.ztest(films_grt_thn_avg_df['Rating'], x2=films_lsr_thn_avg_df['Rating'], value=0,alternative='two-sided')\n",
    "print(float(P_Value))\n",
    "\n",
    "if P_Value<0.05:\n",
    "    print(\"reject null hypothesis meaning Runtime Does impact Rating\")\n",
    "    print(films_grt_thn_avg_df_mean,films_lsr_thn_avg_df_mean)\n",
    "else:\n",
    "    print(\"accept null hypothesis\")"
   ]
  },
  {
   "cell_type": "code",
   "execution_count": 10,
   "metadata": {},
   "outputs": [
    {
     "data": {
      "text/plain": [
       "0.21765389419106007"
      ]
     },
     "execution_count": 10,
     "metadata": {},
     "output_type": "execute_result"
    }
   ],
   "source": [
    "#Question 2: Does rating impact ? Simply find correlation\n",
    "\n",
    "imdb['Rating'].corr(imdb['Revenue'])\n",
    "\n",
    "#21.7 % is a weak correlation between Rating and Revenue to say that Rating impacts Revenue"
   ]
  },
  {
   "cell_type": "code",
   "execution_count": 11,
   "metadata": {},
   "outputs": [
    {
     "data": {
      "text/html": [
       "<div>\n",
       "<style scoped>\n",
       "    .dataframe tbody tr th:only-of-type {\n",
       "        vertical-align: middle;\n",
       "    }\n",
       "\n",
       "    .dataframe tbody tr th {\n",
       "        vertical-align: top;\n",
       "    }\n",
       "\n",
       "    .dataframe thead th {\n",
       "        text-align: right;\n",
       "    }\n",
       "</style>\n",
       "<table border=\"1\" class=\"dataframe\">\n",
       "  <thead>\n",
       "    <tr style=\"text-align: right;\">\n",
       "      <th></th>\n",
       "      <th>App</th>\n",
       "      <th>Category</th>\n",
       "      <th>Rating</th>\n",
       "      <th>Reviews</th>\n",
       "      <th>Size</th>\n",
       "      <th>Installs</th>\n",
       "      <th>Type</th>\n",
       "      <th>Price</th>\n",
       "      <th>Content Rating</th>\n",
       "      <th>Genres</th>\n",
       "      <th>Last Updated</th>\n",
       "      <th>Current Ver</th>\n",
       "      <th>Android Ver</th>\n",
       "    </tr>\n",
       "  </thead>\n",
       "  <tbody>\n",
       "    <tr>\n",
       "      <th>0</th>\n",
       "      <td>Photo Editor &amp; Candy Camera &amp; Grid &amp; ScrapBook</td>\n",
       "      <td>ART_AND_DESIGN</td>\n",
       "      <td>4.1</td>\n",
       "      <td>159</td>\n",
       "      <td>19M</td>\n",
       "      <td>10,000+</td>\n",
       "      <td>Free</td>\n",
       "      <td>0</td>\n",
       "      <td>Everyone</td>\n",
       "      <td>Art &amp; Design</td>\n",
       "      <td>January 7, 2018</td>\n",
       "      <td>1.0.0</td>\n",
       "      <td>4.0.3 and up</td>\n",
       "    </tr>\n",
       "    <tr>\n",
       "      <th>1</th>\n",
       "      <td>Coloring book moana</td>\n",
       "      <td>ART_AND_DESIGN</td>\n",
       "      <td>3.9</td>\n",
       "      <td>967</td>\n",
       "      <td>14M</td>\n",
       "      <td>500,000+</td>\n",
       "      <td>Free</td>\n",
       "      <td>0</td>\n",
       "      <td>Everyone</td>\n",
       "      <td>Art &amp; Design;Pretend Play</td>\n",
       "      <td>January 15, 2018</td>\n",
       "      <td>2.0.0</td>\n",
       "      <td>4.0.3 and up</td>\n",
       "    </tr>\n",
       "    <tr>\n",
       "      <th>2</th>\n",
       "      <td>U Launcher Lite – FREE Live Cool Themes, Hide ...</td>\n",
       "      <td>ART_AND_DESIGN</td>\n",
       "      <td>4.7</td>\n",
       "      <td>87510</td>\n",
       "      <td>8.7M</td>\n",
       "      <td>5,000,000+</td>\n",
       "      <td>Free</td>\n",
       "      <td>0</td>\n",
       "      <td>Everyone</td>\n",
       "      <td>Art &amp; Design</td>\n",
       "      <td>August 1, 2018</td>\n",
       "      <td>1.2.4</td>\n",
       "      <td>4.0.3 and up</td>\n",
       "    </tr>\n",
       "    <tr>\n",
       "      <th>3</th>\n",
       "      <td>Sketch - Draw &amp; Paint</td>\n",
       "      <td>ART_AND_DESIGN</td>\n",
       "      <td>4.5</td>\n",
       "      <td>215644</td>\n",
       "      <td>25M</td>\n",
       "      <td>50,000,000+</td>\n",
       "      <td>Free</td>\n",
       "      <td>0</td>\n",
       "      <td>Teen</td>\n",
       "      <td>Art &amp; Design</td>\n",
       "      <td>June 8, 2018</td>\n",
       "      <td>Varies with device</td>\n",
       "      <td>4.2 and up</td>\n",
       "    </tr>\n",
       "    <tr>\n",
       "      <th>4</th>\n",
       "      <td>Pixel Draw - Number Art Coloring Book</td>\n",
       "      <td>ART_AND_DESIGN</td>\n",
       "      <td>4.3</td>\n",
       "      <td>967</td>\n",
       "      <td>2.8M</td>\n",
       "      <td>100,000+</td>\n",
       "      <td>Free</td>\n",
       "      <td>0</td>\n",
       "      <td>Everyone</td>\n",
       "      <td>Art &amp; Design;Creativity</td>\n",
       "      <td>June 20, 2018</td>\n",
       "      <td>1.1</td>\n",
       "      <td>4.4 and up</td>\n",
       "    </tr>\n",
       "  </tbody>\n",
       "</table>\n",
       "</div>"
      ],
      "text/plain": [
       "                                                 App        Category  Rating  \\\n",
       "0     Photo Editor & Candy Camera & Grid & ScrapBook  ART_AND_DESIGN     4.1   \n",
       "1                                Coloring book moana  ART_AND_DESIGN     3.9   \n",
       "2  U Launcher Lite – FREE Live Cool Themes, Hide ...  ART_AND_DESIGN     4.7   \n",
       "3                              Sketch - Draw & Paint  ART_AND_DESIGN     4.5   \n",
       "4              Pixel Draw - Number Art Coloring Book  ART_AND_DESIGN     4.3   \n",
       "\n",
       "  Reviews  Size     Installs  Type Price Content Rating  \\\n",
       "0     159   19M      10,000+  Free     0       Everyone   \n",
       "1     967   14M     500,000+  Free     0       Everyone   \n",
       "2   87510  8.7M   5,000,000+  Free     0       Everyone   \n",
       "3  215644   25M  50,000,000+  Free     0           Teen   \n",
       "4     967  2.8M     100,000+  Free     0       Everyone   \n",
       "\n",
       "                      Genres      Last Updated         Current Ver  \\\n",
       "0               Art & Design   January 7, 2018               1.0.0   \n",
       "1  Art & Design;Pretend Play  January 15, 2018               2.0.0   \n",
       "2               Art & Design    August 1, 2018               1.2.4   \n",
       "3               Art & Design      June 8, 2018  Varies with device   \n",
       "4    Art & Design;Creativity     June 20, 2018                 1.1   \n",
       "\n",
       "    Android Ver  \n",
       "0  4.0.3 and up  \n",
       "1  4.0.3 and up  \n",
       "2  4.0.3 and up  \n",
       "3    4.2 and up  \n",
       "4    4.4 and up  "
      ]
     },
     "execution_count": 11,
     "metadata": {},
     "output_type": "execute_result"
    }
   ],
   "source": [
    "# One Sample Hypothesis Testing\n",
    "#Below data is playstore Google data.\n",
    "#Data has been obtained from KAggle data sources\n",
    "\n",
    "# Quesion : Does the average rating for apps classified as 'Teen' are lesser than 3.62?\n",
    "\n",
    "playstore = pd.read_csv('D:\\Study Materials\\Documents to play with in python\\playstore apps\\googleplaystore.csv',error_bad_lines=False)\n",
    "playstore['Rating'].replace('NaN',0)\n",
    "playstore['Rating'].replace('',0)\n",
    "playstore.fillna(0)\n",
    "playstore['Rating'] = playstore['Rating'].astype(float)\n",
    "playstore.head(5)"
   ]
  },
  {
   "cell_type": "code",
   "execution_count": 12,
   "metadata": {},
   "outputs": [
    {
     "data": {
      "text/plain": [
       "App               9660\n",
       "Category            35\n",
       "Rating              41\n",
       "Reviews           6002\n",
       "Size               462\n",
       "Installs            22\n",
       "Type                 3\n",
       "Price               93\n",
       "Content Rating       6\n",
       "Genres             121\n",
       "Last Updated      1378\n",
       "Current Ver       2785\n",
       "Android Ver         33\n",
       "dtype: int64"
      ]
     },
     "execution_count": 12,
     "metadata": {},
     "output_type": "execute_result"
    }
   ],
   "source": [
    "playstore.nunique()"
   ]
  },
  {
   "cell_type": "code",
   "execution_count": 13,
   "metadata": {},
   "outputs": [
    {
     "data": {
      "text/plain": [
       "array(['Everyone', 'Teen', 'Everyone 10+', 'Mature 17+',\n",
       "       'Adults only 18+', 'Unrated', nan], dtype=object)"
      ]
     },
     "execution_count": 13,
     "metadata": {},
     "output_type": "execute_result"
    }
   ],
   "source": [
    "playstore['Content Rating'].unique()"
   ]
  },
  {
   "cell_type": "code",
   "execution_count": 14,
   "metadata": {},
   "outputs": [
    {
     "data": {
      "text/plain": [
       "3.6231897426436723"
      ]
     },
     "execution_count": 14,
     "metadata": {},
     "output_type": "execute_result"
    }
   ],
   "source": [
    "population_rating_mean = playstore['Rating'].mean()\n",
    "population_rating_mean"
   ]
  },
  {
   "cell_type": "code",
   "execution_count": 15,
   "metadata": {},
   "outputs": [
    {
     "data": {
      "text/plain": [
       "3.65"
      ]
     },
     "execution_count": 15,
     "metadata": {},
     "output_type": "execute_result"
    }
   ],
   "source": [
    "Teen = playstore[playstore['Content Rating'] == 'Teen']\n",
    "#Let us take a sample of only 20 such observations\n",
    "Teen_Sample = Teen.sample(n = 20)\n",
    "Teen_mean = Teen_Sample['Rating'].mean()\n",
    "Teen_mean"
   ]
  },
  {
   "cell_type": "code",
   "execution_count": 16,
   "metadata": {},
   "outputs": [
    {
     "data": {
      "text/plain": [
       "1.5216782253982721"
      ]
     },
     "execution_count": 16,
     "metadata": {},
     "output_type": "execute_result"
    }
   ],
   "source": [
    "Population_Standard_Deviation = statistics.stdev(playstore['Rating'])\n",
    "Population_Standard_Deviation"
   ]
  },
  {
   "cell_type": "code",
   "execution_count": 17,
   "metadata": {},
   "outputs": [
    {
     "name": "stdout",
     "output_type": "stream",
     "text": [
      "0.937196475579503\n",
      "accept null hypothesis meaning Teen apps do have rating greater than/less than population mean\n"
     ]
    }
   ],
   "source": [
    "Z_Score_Numerator = Teen_mean-population_rating_mean\n",
    "Z_Score_Dinominator = Population_Standard_Deviation/math.sqrt(20)\n",
    "\n",
    "Z_Score = Z_Score_Numerator/Z_Score_Dinominator\n",
    "\n",
    "P_Values = stats.norm.sf(abs(Z_Score))*2\n",
    "\n",
    "print(P_Values)\n",
    "\n",
    "if P_Values<0.05:\n",
    "    print(\"reject null hypothesis meaning Runtime Does impact Rating\")\n",
    "    print(films_grt_thn_avg_df_mean,films_lsr_thn_avg_df_mean)\n",
    "else:\n",
    "    print(\"accept null hypothesis meaning Teen apps do have rating greater than/less than population mean\")"
   ]
  },
  {
   "cell_type": "code",
   "execution_count": 18,
   "metadata": {},
   "outputs": [
    {
     "name": "stdout",
     "output_type": "stream",
     "text": [
      "0.9259613400475027\n",
      "accept null hypothesis meaning Teen apps do have rating greater than/less than population mean\n"
     ]
    }
   ],
   "source": [
    "#Solving above example with formulae\n",
    "# Using Python libraries for directly calculating the same\n",
    "ztest ,P_Value = stests.ztest(Teen_Sample['Rating'], x2=None, value=population_rating_mean)\n",
    "print(float(P_Value))\n",
    "\n",
    "if P_Value<0.05:\n",
    "    print(\"reject null hypothesis meaning Runtime Does impact Rating\")\n",
    "else:\n",
    "    print(\"accept null hypothesis meaning Teen apps do have rating greater than/less than population mean\")"
   ]
  }
 ],
 "metadata": {
  "kernelspec": {
   "display_name": "Python 3",
   "language": "python",
   "name": "python3"
  },
  "language_info": {
   "codemirror_mode": {
    "name": "ipython",
    "version": 3
   },
   "file_extension": ".py",
   "mimetype": "text/x-python",
   "name": "python",
   "nbconvert_exporter": "python",
   "pygments_lexer": "ipython3",
   "version": "3.8.3"
  }
 },
 "nbformat": 4,
 "nbformat_minor": 4
}
