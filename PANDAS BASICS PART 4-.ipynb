{
 "cells": [
  {
   "cell_type": "code",
   "execution_count": 1,
   "metadata": {},
   "outputs": [],
   "source": [
    "#This deals with everything DATES\n",
    "#This section deals with all the necessary imports for the section that'll follow\n",
    "\n",
    "#THIS IS ALL ABOUT SLICING, GROUPING AND APPLYING OPERATIONS TO EACH OF THOSE\n",
    "%matplotlib inline\n",
    "from pandas import Series, DataFrame\n",
    "import pandas as pd\n",
    "import numpy as np\n",
    "from numpy.random import randn\n",
    "import matplotlib.pyplot as plt\n",
    "from datetime import datetime\n",
    "from datetime import timedelta "
   ]
  },
  {
   "cell_type": "code",
   "execution_count": 2,
   "metadata": {},
   "outputs": [
    {
     "name": "stdout",
     "output_type": "stream",
     "text": [
      "2020-11-11 18:56:44.106383\n"
     ]
    }
   ],
   "source": [
    "#Getting current time\n",
    "\n",
    "Current_time = datetime.now()\n",
    "print(Current_time)"
   ]
  },
  {
   "cell_type": "code",
   "execution_count": 3,
   "metadata": {},
   "outputs": [
    {
     "name": "stdout",
     "output_type": "stream",
     "text": [
      "2020 11 11 56 18 44\n"
     ]
    }
   ],
   "source": [
    "#Getting the parts of now() in datetime\n",
    "print(Current_time.year,Current_time.month,Current_time.day,Current_time.minute,Current_time.hour,Current_time.second)"
   ]
  },
  {
   "cell_type": "code",
   "execution_count": 4,
   "metadata": {},
   "outputs": [
    {
     "name": "stdout",
     "output_type": "stream",
     "text": [
      "926 days, 15:45:00\n"
     ]
    }
   ],
   "source": [
    "#Getting difference of the 2 time or dates\n",
    "time_difference = datetime(2011, 1, 7) - datetime(2008, 6, 24, 8, 15)\n",
    "print(time_difference)"
   ]
  },
  {
   "cell_type": "code",
   "execution_count": 5,
   "metadata": {},
   "outputs": [
    {
     "name": "stdout",
     "output_type": "stream",
     "text": [
      "2020-12-31 18:56:44.106383 2020-11-11 18:56:44.106383 2020-09-22 18:56:44.106383 2007-03-05 18:56:44.106383\n"
     ]
    }
   ],
   "source": [
    "#Getting new dates by adding/substracting days to them using time delta\n",
    "new_dates = Current_time + timedelta(50)\n",
    "new_dates1 = Current_time + timedelta(-50)\n",
    "new_dates2 = Current_time + 100*timedelta(-50)\n",
    "print(new_dates,Current_time,new_dates1,new_dates2)"
   ]
  },
  {
   "cell_type": "code",
   "execution_count": 6,
   "metadata": {},
   "outputs": [
    {
     "name": "stdout",
     "output_type": "stream",
     "text": [
      "2020-11-11 18:56:44.106383 >> 20-11-11\n"
     ]
    }
   ],
   "source": [
    "#Converting date objects to passable strings\n",
    "#using strftime method\n",
    "print(Current_time,'>>',Current_time.strftime('%y-%m-%d'))"
   ]
  },
  {
   "cell_type": "code",
   "execution_count": 7,
   "metadata": {},
   "outputs": [
    {
     "name": "stdout",
     "output_type": "stream",
     "text": [
      "20-11-11 2020-11-11 00:00:00\n"
     ]
    }
   ],
   "source": [
    "#Converting strings to date objects\n",
    "#Using strptime methid\n",
    "print(Current_time.strftime('%y-%m-%d'),datetime.strptime(Current_time.strftime('%y-%m-%d'),'%y-%m-%d'))"
   ]
  },
  {
   "cell_type": "code",
   "execution_count": 8,
   "metadata": {},
   "outputs": [
    {
     "data": {
      "text/plain": [
       "datetime.datetime(1997, 1, 31, 22, 45)"
      ]
     },
     "execution_count": 8,
     "metadata": {},
     "output_type": "execute_result"
    }
   ],
   "source": [
    "#Using a third party library to easily convert strings to dates\n",
    "from dateutil.parser import parse\n",
    "parse('Jan 31, 1997 10:45 PM')"
   ]
  },
  {
   "cell_type": "code",
   "execution_count": 9,
   "metadata": {},
   "outputs": [
    {
     "name": "stdout",
     "output_type": "stream",
     "text": [
      "DatetimeIndex(['2020-11-05', '2020-11-06', 'NaT'], dtype='datetime64[ns]', freq=None)\n",
      "<class 'pandas.core.indexes.datetimes.DatetimeIndex'>\n",
      "<class 'pandas.core.series.Series'>\n"
     ]
    }
   ],
   "source": [
    "# Using pandas to_datetime tool to parse dates. Works on series of dates be it an index or a column of dataframe of solely a series\n",
    "\n",
    "datestrs = ['11/05/2020','11/06/2020',None]   #can also parse null dates\n",
    "print(pd.to_datetime(datestrs))\n",
    "\n",
    "#Date time index; series will be pandas timeseires with nanoseconds of precision\n",
    "ts = Series(np.random.randn(3), index=pd.to_datetime(datestrs))\n",
    "print(type(pd.to_datetime(datestrs)))\n",
    "print(type(ts))"
   ]
  },
  {
   "cell_type": "code",
   "execution_count": 10,
   "metadata": {},
   "outputs": [
    {
     "name": "stdout",
     "output_type": "stream",
     "text": [
      "DatetimeIndex(['2012-04-01', '2012-04-02', '2012-04-03', '2012-04-04',\n",
      "               '2012-04-05', '2012-04-06', '2012-04-07', '2012-04-08',\n",
      "               '2012-04-09', '2012-04-10', '2012-04-11', '2012-04-12',\n",
      "               '2012-04-13', '2012-04-14'],\n",
      "              dtype='datetime64[ns]', freq='D')\n",
      "DatetimeIndex(['2012-04-01', '2012-04-02', '2012-04-03', '2012-04-04'], dtype='datetime64[ns]', freq='D')\n",
      "DatetimeIndex(['2012-01-20', '2012-02-17', '2012-03-16', '2012-04-20',\n",
      "               '2012-05-18', '2012-06-15', '2012-07-20', '2012-08-17'],\n",
      "              dtype='datetime64[ns]', freq='WOM-3FRI')\n"
     ]
    }
   ],
   "source": [
    "# Indexing, Selection, Subsetting\n",
    "# TimeSeries is a subclass of Series and thus behaves in the same way with regard to\n",
    "# indexing and selecting data based on label\n",
    "\n",
    "# As a convenience, you can also pass a string that is interpretable as a date:\n",
    "\n",
    "# For longer time series, a year or only a year and month can be passed to easily select\n",
    "# slices of data:   such as ts['2001'] >> this will give all dates for 2001 year\n",
    "\n",
    "# Slicing with dates works just like with a regular Series: such as ts[datetime(2011, 1, 7):]\n",
    "\n",
    "#All of these slicing can also be done on a data frame using iloc with index of a datetime type\n",
    "\n",
    "#group by at index = 0 works on time stamps\n",
    "#one cal also find if there are duplicates using is_unique on time series index of a dataframe\n",
    "\n",
    "\n",
    "\n",
    "#generate an index of time with regular time stamps from irregular time stamps >> use regular = resample(irregular)\n",
    "\n",
    "print(pd.date_range('4/1/2012', '4/14/2012'))  #Daily time stamps\n",
    "print(pd.date_range(start = '4/1/2012',periods = 4))   #Specifying the period betwenn 2 marks\n",
    "#use normalize to make each time stamps of 12 midnight hour\n",
    "\n",
    "#please refer to great many period conventions such a BM = business end date periods and such others to leverage timeseries\n",
    "\n",
    "#use expressions like below to get details as wierd as 3rd friday of particular month\n",
    "rng = pd.date_range('1/1/2012', '9/1/2012', freq='WOM-3FRI')   #WOM = Wekk Of Month\n",
    "print(rng)"
   ]
  },
  {
   "cell_type": "code",
   "execution_count": 11,
   "metadata": {},
   "outputs": [
    {
     "name": "stdout",
     "output_type": "stream",
     "text": [
      "2000-01-31   -0.171540\n",
      "2000-02-29   -0.453018\n",
      "2000-03-31    0.171692\n",
      "2000-04-30   -0.076471\n",
      "Freq: M, dtype: float64 2000-01-31         NaN\n",
      "2000-02-29         NaN\n",
      "2000-03-31   -0.171540\n",
      "2000-04-30   -0.453018\n",
      "Freq: M, dtype: float64\n",
      "2000-03-31   -0.171540\n",
      "2000-04-30   -0.453018\n",
      "2000-05-31    0.171692\n",
      "2000-06-30   -0.076471\n",
      "Freq: M, dtype: float64\n",
      "2000-01-31 00:06:00   -0.171540\n",
      "2000-02-29 00:06:00   -0.453018\n",
      "2000-03-31 00:06:00    0.171692\n",
      "2000-04-30 00:06:00   -0.076471\n",
      "Freq: M, dtype: float64\n"
     ]
    }
   ],
   "source": [
    "ts = Series(np.random.randn(4),index=pd.date_range('1/1/2000', periods=4, freq='M'))\n",
    "# SHIFTING DATA THROUGH INDEX USING SHIFT, LEAD AND LAG\n",
    "\n",
    "print(ts,ts.shift(2))  # as can be seen data gets shifted and NaN gets added if there is no data from above to fill the shifted positions\n",
    "\n",
    "# Above statement moved data and kept time stamps steady\n",
    "# In order to also move data as well as time stamp use frequency\n",
    "print(ts.shift(2,freq ='M')) #Monthly   Monthly is known to us can be seen in first output\n",
    "print(ts.shift(2,freq ='3T'))"
   ]
  },
  {
   "cell_type": "code",
   "execution_count": 12,
   "metadata": {},
   "outputs": [
    {
     "data": {
      "text/plain": [
       "(datetime.datetime(2011, 11, 17, 0, 0),\n",
       " Timestamp('2011-11-20 00:00:00'),\n",
       " Timestamp('2011-11-30 00:00:00'),\n",
       " Timestamp('2011-12-31 00:00:00'))"
      ]
     },
     "execution_count": 12,
     "metadata": {},
     "output_type": "execute_result"
    }
   ],
   "source": [
    "#Example of how to get each data to a month end date: can be very much useful while working with monthly RFM dates\n",
    "\n",
    "#This can be done by using offsets\n",
    "\n",
    "from pandas.tseries.offsets import Day, MonthEnd\n",
    "\n",
    "now = datetime(2011, 11, 17)\n",
    "now,now + 3 * Day(),now + MonthEnd(),now + MonthEnd(2)"
   ]
  },
  {
   "cell_type": "code",
   "execution_count": 13,
   "metadata": {},
   "outputs": [],
   "source": [
    "# Other important time series topics to be googled are\n",
    "\n",
    "# Time Zone Handling\n",
    "# Periods and Period Arithmetic\n",
    "# Resampling and Frequency Conversion : upsampling and downsampling\n",
    "# Resamplling with groupby\n",
    "# Interpolatio with forward fills >> ffills\n",
    "#Plotting time series data"
   ]
  }
 ],
 "metadata": {
  "kernelspec": {
   "display_name": "Python 3",
   "language": "python",
   "name": "python3"
  },
  "language_info": {
   "codemirror_mode": {
    "name": "ipython",
    "version": 3
   },
   "file_extension": ".py",
   "mimetype": "text/x-python",
   "name": "python",
   "nbconvert_exporter": "python",
   "pygments_lexer": "ipython3",
   "version": "3.8.3"
  }
 },
 "nbformat": 4,
 "nbformat_minor": 4
}
