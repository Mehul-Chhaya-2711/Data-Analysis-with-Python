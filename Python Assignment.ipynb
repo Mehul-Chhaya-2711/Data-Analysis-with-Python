{
 "cells": [
  {
   "cell_type": "markdown",
   "metadata": {},
   "source": [
    "Q1. Specify two different ways to sort the list L \n",
    "L = [2, 5, 6, 2, 8, 3, 1]"
   ]
  },
  {
   "cell_type": "code",
   "execution_count": 1,
   "metadata": {},
   "outputs": [],
   "source": [
    "#Method 1\n",
    "\n",
    "L = [2, 5, 6, 2, 8, 3, 1]\n",
    "L.sort()\n",
    "print('.sort method          ',L)\n",
    "\n",
    "#Method 2\n",
    "L = [2, 5, 6, 2, 8, 3, 1]\n",
    "for i in range(0,len(L)-1):\n",
    "    for j in range(i+1,len(L)):\n",
    "        if L[j] < L[i]:\n",
    "            buffer = L[i]\n",
    "            L[i] = L[j]\n",
    "            L[j] = buffer\n",
    "            \n",
    "print('Double for loop method',L)          "
   ]
  },
  {
   "cell_type": "markdown",
   "metadata": {},
   "source": [
    "Q2. Mention two different ways be remove duplicates from the List D\n",
    "\n",
    "D = [2, 4, 6, 6, 6, 2, 1]"
   ]
  },
  {
   "cell_type": "code",
   "execution_count": 2,
   "metadata": {},
   "outputs": [
    {
     "name": "stdout",
     "output_type": "stream",
     "text": [
      "Using set functionality       [1, 2, 4, 6]\n",
      "Using empty list and for loop [2, 4, 6, 1]\n"
     ]
    }
   ],
   "source": [
    "#Method 1\n",
    "D = [2, 4, 6, 6, 6, 2, 1]\n",
    "\n",
    "S = set(D)\n",
    "D = list(S)\n",
    "\n",
    "print('Using set functionality      ',D)\n",
    "\n",
    "#Method 2\n",
    "D = [2, 4, 6, 6, 6, 2, 1]\n",
    "\n",
    "empty_list = []\n",
    "\n",
    "for i in D:\n",
    "    if i not in empty_list:\n",
    "        empty_list.append(i)\n",
    "        \n",
    "print('Using empty list and for loop',empty_list)    "
   ]
  },
  {
   "cell_type": "markdown",
   "metadata": {},
   "source": [
    "Q3. Determine pairs in list whose multiplication returns 99.\n",
    "\n",
    "M = [99, 11, 9, 1, 5, 33, 3]"
   ]
  },
  {
   "cell_type": "code",
   "execution_count": 3,
   "metadata": {},
   "outputs": [
    {
     "name": "stdout",
     "output_type": "stream",
     "text": [
      "Following are the pairs of numbers that will get us 99 as a result of their multiplication\n",
      "99 1\n",
      "11 9\n",
      "33 3\n"
     ]
    }
   ],
   "source": [
    "M = [99, 11, 9, 1, 5, 33, 3]\n",
    "\n",
    "print('Following are the pairs of numbers that will get us 99 as a result of their multiplication')\n",
    "for i in range(0,len(M)-1):\n",
    "    for j in range(i+1,len(M)):\n",
    "        if M[i]*M[j] == 99:\n",
    "            print(M[i],M[j])"
   ]
  },
  {
   "cell_type": "markdown",
   "metadata": {},
   "source": [
    "Q4. Implement UpdateSalary function that receive Salary dictionary and number n and returns a \n",
    "    new dictionary where each employee salary is higher by n  \n",
    "\n",
    "Salary = {\"Oliver\": 5000,\"Ryan\": 6000,\"Peter\":4500,\"Andres\":7000}"
   ]
  },
  {
   "cell_type": "code",
   "execution_count": 4,
   "metadata": {},
   "outputs": [
    {
     "name": "stdout",
     "output_type": "stream",
     "text": [
      "{'Oliver': 6000, 'Ryan': 7000, 'Peter': 5500, 'Andres': 8000}\n"
     ]
    }
   ],
   "source": [
    "Salary = {\"Oliver\": 5000,\"Ryan\": 6000,\"Peter\":4500,\"Andres\":7000}\n",
    "\n",
    "def UpdateSalary(Salary,n):\n",
    "    for keys in Salary:\n",
    "        Salary[keys] = Salary[keys]+n;\n",
    "        \n",
    "UpdateSalary(Salary,1000)\n",
    "print(Salary)        "
   ]
  },
  {
   "cell_type": "markdown",
   "metadata": {},
   "source": [
    "Q5.  Write Python to give bonuses (in points) to frequent flyer program members\n",
    " \n",
    "A) 50% bonus who traveled less than 10,000 miles\n",
    "\n",
    "B) 100% bonus who travelled 10,000 miles or more"
   ]
  },
  {
   "cell_type": "code",
   "execution_count": 5,
   "metadata": {},
   "outputs": [
    {
     "name": "stdout",
     "output_type": "stream",
     "text": [
      "   ID  MILES  POINTS  BONUS\n",
      "0   1  11000     209    418\n",
      "1   2   9000     105    210\n",
      "2   3  50000     734   1468\n"
     ]
    }
   ],
   "source": [
    "import pandas\n",
    "\n",
    "Frequent_Flyer = {\n",
    "    'ID': [1,2,3],\n",
    "    'MILES': [11000,9000,50000],\n",
    "    'POINTS': [209,105,734]\n",
    "}\n",
    "\n",
    "Frequent_Flyer_df = pandas.DataFrame(Frequent_Flyer)\n",
    "Frequent_Flyer_df['BONUS'] = Frequent_Flyer_df['POINTS'].apply(lambda x: x*1.5 if x>=10000 else x*2)\n",
    "\n",
    "print(Frequent_Flyer_df)"
   ]
  },
  {
   "cell_type": "markdown",
   "metadata": {},
   "source": [
    "Q6. Write a python program to find all numbers, \n",
    "which are divisible by 7 but not multiple of 5 between 1000 and 2500 (both included)"
   ]
  },
  {
   "cell_type": "code",
   "execution_count": 6,
   "metadata": {},
   "outputs": [
    {
     "name": "stdout",
     "output_type": "stream",
     "text": [
      "[1001, 1008, 1015, 1022, 1029, 1036, 1043, 1050, 1057, 1064, 1071, 1078, 1085, 1092, 1099, 1106, 1113, 1120, 1127, 1134, 1141, 1148, 1155, 1162, 1169, 1176, 1183, 1190, 1197, 1204, 1211, 1218, 1225, 1232, 1239, 1246, 1253, 1260, 1267, 1274, 1281, 1288, 1295, 1302, 1309, 1316, 1323, 1330, 1337, 1344, 1351, 1358, 1365, 1372, 1379, 1386, 1393, 1400, 1407, 1414, 1421, 1428, 1435, 1442, 1449, 1456, 1463, 1470, 1477, 1484, 1491, 1498, 1505, 1512, 1519, 1526, 1533, 1540, 1547, 1554, 1561, 1568, 1575, 1582, 1589, 1596, 1603, 1610, 1617, 1624, 1631, 1638, 1645, 1652, 1659, 1666, 1673, 1680, 1687, 1694, 1701, 1708, 1715, 1722, 1729, 1736, 1743, 1750, 1757, 1764, 1771, 1778, 1785, 1792, 1799, 1806, 1813, 1820, 1827, 1834, 1841, 1848, 1855, 1862, 1869, 1876, 1883, 1890, 1897, 1904, 1911, 1918, 1925, 1932, 1939, 1946, 1953, 1960, 1967, 1974, 1981, 1988, 1995, 2002, 2009, 2016, 2023, 2030, 2037, 2044, 2051, 2058, 2065, 2072, 2079, 2086, 2093, 2100, 2107, 2114, 2121, 2128, 2135, 2142, 2149, 2156, 2163, 2170, 2177, 2184, 2191, 2198, 2205, 2212, 2219, 2226, 2233, 2240, 2247, 2254, 2261, 2268, 2275, 2282, 2289, 2296, 2303, 2310, 2317, 2324, 2331, 2338, 2345, 2352, 2359, 2366, 2373, 2380, 2387, 2394, 2401, 2408, 2415, 2422, 2429, 2436, 2443, 2450, 2457, 2464, 2471, 2478, 2485, 2492, 2499]\n"
     ]
    }
   ],
   "source": [
    "result_list = []\n",
    "for i in range(1000,2500):\n",
    "    if i%7 == 0 and i%5 != 5:\n",
    "        result_list.append(i)\n",
    "print(result_list)      "
   ]
  },
  {
   "cell_type": "markdown",
   "metadata": {},
   "source": [
    "Q7. Use list comprehension to square each odd number in the list \n",
    "S = [1,3,4,7,9,12]"
   ]
  },
  {
   "cell_type": "code",
   "execution_count": 7,
   "metadata": {},
   "outputs": [
    {
     "name": "stdout",
     "output_type": "stream",
     "text": [
      "[1, 9, 16, 49, 81, 144]\n"
     ]
    }
   ],
   "source": [
    "S = [1,3,4,7,9,12]\n",
    "\n",
    "S_squared = [x**2 for x in S]\n",
    "\n",
    "print(S_squared)"
   ]
  },
  {
   "cell_type": "markdown",
   "metadata": {},
   "source": [
    "Q6) A Bank wants to send some offers to first 50 premier customers every day if they make online purchases 9:00 AM to 12:00 PM. \n",
    "\n",
    "The base data file (BANK_YYYYMMDD.txt) which has two columns (Customer id and purchase timestamp) is shared by the IT team.\n",
    "\n",
    "1. Write a Python to create a dataset ELIG_CUST that should have the list of eligible customers for the offer; the final dataset ELIG_CUST should have two columns CUST_ID & Name.\n",
    "2. Read the cust_id and purchase timestamp from BANK_YYYYDDMM.txt file; Join with CLIENT Dataset to identify premier customers Exclude customers to whom offers was already sent - Refer to OFFER dataset"
   ]
  },
  {
   "cell_type": "code",
   "execution_count": 8,
   "metadata": {},
   "outputs": [
    {
     "name": "stdout",
     "output_type": "stream",
     "text": [
      "purchase data \n",
      "    CustID Purchase_TimeStamp\n",
      "0   12346           09:05:05\n",
      "1   23456           09:05:07\n",
      "2   34245           12:00:05\n",
      "3   12345           10:11:06 \n",
      "\n",
      "Client Data\n",
      "    CustID    Name  Segment\n",
      "0   12346    Ryan  Premier\n",
      "1   23456  Victor     Gold\n",
      "2   34245  Eleena  Premier\n",
      "3   12345   Rocky  Premier \n",
      "\n",
      "Offers Data\n",
      "    CustID OfferMonth\n",
      "0   23456    January\n",
      "1   12345      March \n",
      "\n",
      "ELIG_CUST database with customer names added to customer IDs\n",
      "   CustID    Name  Segment\n",
      "0   12346    Ryan  Premier\n",
      "1   23456  Victor     Gold\n",
      "2   34245  Eleena  Premier\n",
      "3   12345   Rocky  Premier \n",
      "\n",
      "Getting only the Premier Customers\n",
      "   CustID    Name  Segment\n",
      "0   12346    Ryan  Premier\n",
      "2   34245  Eleena  Premier\n",
      "3   12345   Rocky  Premier \n",
      "\n",
      "Getting only those Customer who did not receive an offer\n",
      "   CustID    Name  Segment\n",
      "0   12346    Ryan  Premier\n",
      "2   34245  Eleena  Premier\n"
     ]
    }
   ],
   "source": [
    "#Available Data With US\n",
    "\n",
    "purchase_data = pandas.DataFrame({'CustID':[12346,23456,34245,12345],'Purchase_TimeStamp':['09:05:05','09:05:07','12:00:05','10:11:06']})\n",
    "client_data = pandas.DataFrame({'CustID':[12346,23456,34245,12345],'Name':['Ryan','Victor','Eleena','Rocky'],'Segment':['Premier','Gold','Premier','Premier']})\n",
    "offers_data = pandas.DataFrame({'CustID':[23456,12345],'OfferMonth':['January','March']})\n",
    "\n",
    "print('purchase data \\n',purchase_data,'\\n\\nClient Data\\n',client_data,'\\n\\nOffers Data\\n',offers_data,'\\n')\n",
    "\n",
    "#Final manipulations to get answers\n",
    "\n",
    "print('ELIG_CUST database with customer names added to customer IDs')\n",
    "\n",
    "ELIG_CUST = pandas.merge(purchase_data['CustID'],client_data[['CustID','Name','Segment']],on='CustID')\n",
    "print(ELIG_CUST,'\\n')\n",
    "\n",
    "print('Getting only the Premier Customers')\n",
    "ELIG_CUST_PREMIER = ELIG_CUST.loc[ELIG_CUST['Segment'] == 'Premier']\n",
    "print(ELIG_CUST_PREMIER,'\\n')\n",
    "\n",
    "print('Getting only those Customer who did not receive an offer')\n",
    "ELIG_CUST_PREMIER_NO_OFFER = ELIG_CUST_PREMIER.loc[ELIG_CUST_PREMIER['CustID'].isin(offers_data['CustID'])==False]\n",
    "print(ELIG_CUST_PREMIER_NO_OFFER)"
   ]
  }
 ],
 "metadata": {
  "kernelspec": {
   "display_name": "Python 3",
   "language": "python",
   "name": "python3"
  },
  "language_info": {
   "codemirror_mode": {
    "name": "ipython",
    "version": 3
   },
   "file_extension": ".py",
   "mimetype": "text/x-python",
   "name": "python",
   "nbconvert_exporter": "python",
   "pygments_lexer": "ipython3",
   "version": "3.8.3"
  }
 },
 "nbformat": 4,
 "nbformat_minor": 4
}
